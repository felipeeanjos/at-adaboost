{
 "cells": [
  {
   "cell_type": "markdown",
   "id": "654ca6e2",
   "metadata": {},
   "source": [
    "# Diferenças Random Forest e Adaboost\n",
    "\n",
    "### Random forest --> floresta de árvores / Adaboost --> floresta de Stumps\n",
    "### Random forest --> árvores independentes / Adaboost --> uma árvore influencia na próxima\n",
    "### Random forest --> Repostas com mesmo peso / Adaboost --> Respostas com peso diferentes\n",
    "### Random forest --> Mais suscetível ao overfiting / Adaboost --> Mais difÍcil de ocorrer overfiting\n",
    "### Random forest --> Dados treinamento amostrados com base na técnica de bagging / Adaboost --> baseados na técnica boosting "
   ]
  },
  {
   "cell_type": "code",
   "execution_count": 1,
   "id": "16d6170e",
   "metadata": {},
   "outputs": [
    {
     "data": {
      "text/plain": [
       "0.9466666666666665"
      ]
     },
     "execution_count": 1,
     "metadata": {},
     "output_type": "execute_result"
    }
   ],
   "source": [
    "from sklearn.model_selection import cross_val_score\n",
    "from sklearn.datasets import load_iris\n",
    "from sklearn.ensemble import AdaBoostClassifier\n",
    "\n",
    "X, y = load_iris(return_X_y=True)\n",
    "clf = AdaBoostClassifier(n_estimators=100)\n",
    "scores = cross_val_score(clf, X, y, cv=5)\n",
    "scores.mean()"
   ]
  },
  {
   "cell_type": "markdown",
   "id": "30fc5752",
   "metadata": {},
   "source": [
    "# Hyperparametros\n",
    "## n_estimators: É o número de modelos que ele vai utilizar para o treino.\n",
    "## learning_rate: É a taxa de aprendizado, um valor muito baixo demora mais, mas às vezes com melhor resultado.\n",
    "## base_estimator: É o algoritmo utilizado para treinar os modelos fracos. O padrão é a árvore de decisão, a não ser que queira algo específico, isso não precisa ser alterado\n",
    "## random_state: Controla a semente aleatória fornecida em estimatorcada iteração de reforço, se colocarmos random_state = 7 e rodarmos o código infinitas vezes o resultado sempre será o mesmo\n",
    "## algorithm: Define o algoritmo {‘SAMME’, ‘SAMME.R’}, default=’SAMME.R’ , O algoritmo SAMME.R normalmente converge mais rápido que o SAMME, alcançando um erro de teste menor com menos iterações de reforço."
   ]
  }
 ],
 "metadata": {
  "kernelspec": {
   "display_name": "Python 3 (ipykernel)",
   "language": "python",
   "name": "python3"
  },
  "language_info": {
   "codemirror_mode": {
    "name": "ipython",
    "version": 3
   },
   "file_extension": ".py",
   "mimetype": "text/x-python",
   "name": "python",
   "nbconvert_exporter": "python",
   "pygments_lexer": "ipython3",
   "version": "3.9.13"
  }
 },
 "nbformat": 4,
 "nbformat_minor": 5
}
